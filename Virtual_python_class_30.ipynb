{
  "nbformat": 4,
  "nbformat_minor": 0,
  "metadata": {
    "colab": {
      "name": "Virtual python class 30.ipynb",
      "provenance": [],
      "collapsed_sections": []
    },
    "kernelspec": {
      "name": "python3",
      "display_name": "Python 3"
    }
  },
  "cells": [
    {
      "cell_type": "code",
      "metadata": {
        "id": "SAR7w6mGpLy-"
      },
      "source": [
        "styles=[\"Dub\",\"Dub\", \"Industrial\",\"Heavy Metal\",\"Techno,Dubstep\",\"Synth-pop\",\"Euro-Disco\",\"Industrial\",\"Techno\",\"Minimal\"]\r\n",
        "styles = \",\".join(styles)\r\n",
        "styles = styles.split(\",\")\r\n",
        "def function(styles):\r\n",
        "  return len(set(styles))\r\n",
        "function(styles)  \r\n",
        "\r\n",
        "\r\n",
        "  \r\n"
      ],
      "execution_count": null,
      "outputs": []
    },
    {
      "cell_type": "code",
      "metadata": {
        "id": "YPIJEf6muKZ8"
      },
      "source": [
        "#2) Create a python function that takes a string txt and censors any word from a given list lst. The text removed must be replaced by the given character char.\r\n",
        "\r\n",
        "\r\n",
        "censor_string(\"Today is a Wednesday!\", [\"Today\", \"a\"], \"-\") ➞ \"----- is - Wednesday!\"\r\n",
        "\r\n",
        "censor_string(\"The cow jumped over the moon.\", [\"cow\", \"over\"], \"*\"), \"The *** jumped **** the moon.\")\r\n",
        "\r\n",
        "censor_string(\"Why did the chicken cross the road?\", [\"Did\", \"chicken\", \"road\"], \"*\") ➞ \"Why *** the ******* cross the ****?\"\r\n"
      ],
      "execution_count": null,
      "outputs": []
    },
    {
      "cell_type": "code",
      "metadata": {
        "id": "9oCS1zlmutcV"
      },
      "source": [
        "censor=\"What is the time\"\r\n",
        "censor_list=list(censor)\r\n",
        "cen = \" \".join(censor_list)\r\n",
        "cen=censor_list.split(\" \")\r\n",
        "print(cen)\r\n",
        "  \r\n",
        "    \r\n",
        "\r\n",
        "\r\n",
        "\r\n",
        "\r\n",
        "\r\n"
      ],
      "execution_count": null,
      "outputs": []
    },
    {
      "cell_type": "code",
      "metadata": {
        "id": "UNcRoyU15ZyS"
      },
      "source": [
        "3) Try to imagine a world in which you might have to stay home for 14 days at any given time. Do you have enough TP to make it through?\r\n",
        "\r\n",
        "Although the number of squares per roll of TP varies significantly, we'll assume each roll has 500 sheets, and the average person uses 57 sheets per day.\r\n",
        "\r\n",
        "Create a function that will receive a dictionary with two key/values:\r\n",
        "\r\n",
        "\"people\" ⁠— Number of people in the household.\r\n",
        "\"tp\" ⁠— Number of rolls.\r\n",
        "Return a statement telling the user if they need to buy more TP!\r\n",
        "\r\n",
        "Examples\r\n",
        "tp_checker({ \"people\": 4, \"tp\": 1 }) ➞ \"Your TP will only last 2 days, buy more!\"\r\n",
        "\r\n",
        "tp_checker({ \"people\": 3, \"tp\": 20 }) ➞ \"Your TP will last 58 days, no need to panic!\"\r\n",
        "\r\n",
        "tp_checker({ \"people\": 4, \"tp\": 12 }) ➞ \"Your TP will last 26 days, no need to panic!\"\r\n"
      ],
      "execution_count": null,
      "outputs": []
    },
    {
      "cell_type": "code",
      "metadata": {
        "id": "ESI-34_GQUzJ"
      },
      "source": [
        "\r\n",
        "dict1 = {}\r\n",
        "ppl = int(input(\"How many people in the house\")) \r\n",
        "tp = int(input(\"How much rolls of toilet paper\"))\r\n",
        "dict1 [\"people\"] = ppl\r\n",
        "dict1 [\"tp\"] = tp\r\n",
        "sheets= tp * 500\r\n",
        "single_day = ppl * 57\r\n",
        "days = sheets // single_day\r\n",
        "if days >= 14:\r\n",
        "  print(f\"{dict1} ➞ Your TP will last {days} days, no need to panic!\")\r\n",
        "else:  \r\n",
        "  print(f\"{dict1} ➞ Your TP will only last {days} days, buy more!\")"
      ],
      "execution_count": null,
      "outputs": []
    },
    {
      "cell_type": "code",
      "metadata": {
        "id": "7KQpeLl97gfM"
      },
      "source": [
        "4)\r\n",
        "Create a function to check if a candidate is qualified in an imaginary coding interview of an imaginary tech startup.\r\n",
        "\r\n",
        "The criteria for a candidate to be qualified in the coding interview is:\r\n",
        "\r\n",
        "The candidate should have complete all the questions.\r\n",
        "The maximum time given to complete the interview is 120 minutes.\r\n",
        "The maximum time given for very easy questions is 5 minutes each.\r\n",
        "The maximum time given for easy questions is 10 minutes each.\r\n",
        "The maximum time given for medium questions is 15 minutes each.\r\n",
        "The maximum time given for hard questions is 20 minutes each.\r\n",
        "If all the above conditions are satisfied, return \"qualified\", else return \"disqualified\".\r\n",
        "\r\n",
        "You will be given a list of time taken by a candidate to solve a particular question and the total time taken by the candidate to complete the interview.\r\n",
        "\r\n",
        "Given a list , in a true condition will always be in the format [very easy, very easy, easy, easy, medium, medium, hard, hard].\r\n",
        "\r\n",
        "The maximum time to complete the interview includes a buffer time of 20 minutes\r\n",
        "\r\n",
        "Examples\r\n",
        "interview([5, 5, 10, 10, 15, 15, 20, 20], 120) ➞ \"qualified\"\r\n",
        "\r\n",
        "interview([2, 3, 8, 6, 5, 12, 10, 18], 64) ➞  \"qualified\"\r\n",
        "\r\n",
        "interview([5, 5, 10, 10, 25, 15, 20, 20], 120) ➞ \"disqualified\"\r\n",
        "# Exceeded the time limit for a medium question.\r\n",
        "\r\n",
        "interview([5, 5, 10, 10, 15, 15, 20], 120) ➞ \"disqualified\"\r\n",
        "# Did not complete all the questions.\r\n",
        "\r\n",
        "interview([5, 5, 10, 10, 15, 15, 20, 20], 130) ➞ \"disqualified\"\r\n",
        "# Solved all the questions in their respected time limits but exceeded the total time limit of the interview.\r\n"
      ],
      "execution_count": null,
      "outputs": []
    },
    {
      "cell_type": "code",
      "metadata": {
        "id": "z25VEnQXglj6",
        "colab": {
          "base_uri": "https://localhost:8080/"
        },
        "outputId": "11d323e8-8ff3-42f5-edfb-299b1ab38835"
      },
      "source": [
        "from datetime import date\r\n",
        "f=open(\"Calendar.txt\",\"r\")\r\n",
        "list1=[]\r\n",
        "list2=[]\r\n",
        "list3=[]\r\n",
        "event_date=[]\r\n",
        "for i in f:\r\n",
        "  list1=i.split(\",\")\r\n",
        "event_date=list1[0].split(\"-\") \r\n",
        "today=date.today()\r\n",
        "list2=str(today).split(\"-\")\r\n",
        "for x in list2:\r\n",
        "  list3.append(int(x))\r\n",
        "today_count=date(list3[0],list3[1],list3[2])\r\n",
        "event_date_count = date(int(event_date[2]), int(event_date[1]),int(event_date[0]))\r\n",
        "days_until = event_date_count-today_count\r\n",
        "if days_until.days > 0:\r\n",
        "  print(f\"There are {days_until} days until {list1[1]}\")\r\n",
        "if days_until.days == 0:\r\n",
        "  print(f\"Today is {list1[1]}\")  \r\n",
        "if days_until.days < 0:\r\n",
        "  print(f\"{list1[1]} has already finished\")  \r\n",
        "\r\n",
        "\r\n",
        "\r\n"
      ],
      "execution_count": 150,
      "outputs": [
        {
          "output_type": "stream",
          "text": [
            "There are 370 days, 0:00:00 days until  Christmas Day\n"
          ],
          "name": "stdout"
        }
      ]
    },
    {
      "cell_type": "code",
      "metadata": {
        "colab": {
          "base_uri": "https://localhost:8080/"
        },
        "id": "vjN3-POLxalW",
        "outputId": "3507b177-8988-4436-8e6e-712435226c6a"
      },
      "source": [
        "print(date.today())"
      ],
      "execution_count": null,
      "outputs": [
        {
          "output_type": "stream",
          "text": [
            "2020-12-20\n"
          ],
          "name": "stdout"
        }
      ]
    }
  ]
}