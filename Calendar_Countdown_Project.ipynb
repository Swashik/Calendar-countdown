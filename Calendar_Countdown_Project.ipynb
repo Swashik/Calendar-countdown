{
  "nbformat": 4,
  "nbformat_minor": 0,
  "metadata": {
    "colab": {
      "name": "Calendar Countdown Project.ipynb",
      "provenance": []
    },
    "kernelspec": {
      "name": "python3",
      "display_name": "Python 3"
    }
  },
  "cells": [
    {
      "cell_type": "code",
      "metadata": {
        "colab": {
          "base_uri": "https://localhost:8080/"
        },
        "id": "mLMAIOJ0YtVG",
        "outputId": "c8e0af34-ccd2-44e1-993a-032232fa1fae"
      },
      "source": [
        "from datetime import date\r\n",
        "f=open(\"Calendar.txt\",\"r\")\r\n",
        "list1=[]\r\n",
        "list2=[]\r\n",
        "list3=[]\r\n",
        "event_date=[]\r\n",
        "for i in f:\r\n",
        "  list1=i.split(\",\")\r\n",
        "  print(\"Below is the event name and date split\")\r\n",
        "  print(list1)\r\n",
        "  break\r\n",
        "event_date=list1[0].split(\"-\") \r\n",
        "today=date.today()\r\n",
        "list2=str(today).split(\"-\")\r\n",
        "print(f\"Today is {list2}\")\r\n",
        "for x in list2:\r\n",
        "  list3.append(int(x))\r\n",
        "today_count=date(list3[0],list3[1],list3[2])\r\n",
        "event_date_count = date(int(event_date[2]), int(event_date[1]),int(event_date[0]))\r\n",
        "days_until = event_date_count-today_count\r\n",
        "if days_until.days > 0:\r\n",
        "  print(f\"There are {days_until} days until {list1[1]}\")\r\n",
        "if days_until.days == 0:\r\n",
        "  print(f\"Today is {list1[1]}\")  \r\n",
        "if days_until.days < 0:\r\n",
        "  print(f\"{list1[1]} has already finished\")  \r\n"
      ],
      "execution_count": 28,
      "outputs": [
        {
          "output_type": "stream",
          "text": [
            "Below is the event name and date split\n",
            "['1-1-2021', ' New year day\\n']\n",
            "Today is ['2020', '12', '20']\n",
            "There are 12 days, 0:00:00 days until  New year day\n",
            "\n"
          ],
          "name": "stdout"
        }
      ]
    }
  ]
}