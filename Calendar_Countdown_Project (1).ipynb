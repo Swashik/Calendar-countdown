{
  "nbformat": 4,
  "nbformat_minor": 0,
  "metadata": {
    "colab": {
      "name": "Calendar Countdown Project.ipynb",
      "provenance": [],
      "collapsed_sections": []
    },
    "kernelspec": {
      "name": "python3",
      "display_name": "Python 3"
    }
  },
  "cells": [
    {
      "cell_type": "code",
      "metadata": {
        "colab": {
          "base_uri": "https://localhost:8080/"
        },
        "id": "mLMAIOJ0YtVG",
        "outputId": "38991e29-e44e-4e44-9e6f-b5688836fa77"
      },
      "source": [
        "from datetime import date\r\n",
        "Calendar=open(\"Calendar.txt\",\"r\")\r\n",
        "today_list=[]\r\n",
        "event_date=[]\r\n",
        "split_list=[]\r\n",
        "today_list_no_str=[]\r\n",
        "today_list_with_str=[]\r\n",
        "today=date.today()\r\n",
        "def split_func():\r\n",
        "  print(\"This is the first line\", Calendar.readlines(1),\"\\n\")\r\n",
        "  global event_date\r\n",
        "  global split_list\r\n",
        "  for i in Calendar:\r\n",
        "    split_list=i.split(\",\")\r\n",
        "    print(f\"This is the split{split_list}\\n\")\r\n",
        "    event_date=split_list[0].split(\"-\") \r\n",
        "  \r\n",
        "\r\n",
        "def days_until():\r\n",
        "    today_list_with_str=str(today).split(\"-\")\r\n",
        "    print(f\"Today is {today_list_with_str}\\n\")\r\n",
        "    for i in today_list_with_str:\r\n",
        "      today_list_no_str.append(int(i))\r\n",
        "    today_count=date(today_list_no_str[0],today_list_no_str[1],today_list_no_str[2])\r\n",
        "    event_date_count = date(int(event_date[2]), int(event_date[1]),int(event_date[0]))\r\n",
        "    days_until = event_date_count-today_count\r\n",
        "    if days_until.days > 0:\r\n",
        "      print(f\"There are {days_until.days} days until {list1[1]}\\n\")\r\n",
        "    if days_until.days == 0:\r\n",
        "      print(f\"Today is {list1[1]}\")  \r\n",
        "    if days_until.days < 0:\r\n",
        "      print(f\"{split_list[1]} has already finished\")  \r\n",
        "      \r\n",
        "split_func()\r\n",
        "days_until()\r\n",
        " \r\n",
        "\r\n",
        "\r\n"
      ],
      "execution_count": 130,
      "outputs": [
        {
          "output_type": "stream",
          "text": [
            "This is the first line ['1-1-2021, New year day\\n'] \n",
            "\n",
            "This is the split['25-12-2021', ' Christmas Day\\n']\n",
            "\n",
            "This is the split['31-10-2021', ' Halloween\\n']\n",
            "\n",
            "This is the split['11-11-2021', ' My Birthday\\n']\n",
            "\n",
            "This is the split['24-5-2021', ' Victoria Day']\n",
            "\n",
            "Today is ['2020', '12', '20']\n",
            "\n",
            "There are 155 days until  Victoria Day\n",
            "\n"
          ],
          "name": "stdout"
        }
      ]
    }
  ]
}